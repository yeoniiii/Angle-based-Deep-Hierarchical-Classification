{
 "cells": [
  {
   "cell_type": "markdown",
   "metadata": {},
   "source": [
    "# 1. Library"
   ]
  },
  {
   "cell_type": "code",
   "execution_count": 1,
   "metadata": {},
   "outputs": [],
   "source": [
    "import pandas as pd\n",
    "import numpy as np\n",
    "import random\n",
    "import os\n",
    "from anytree import Node\n",
    "\n",
    "from Algorithms import TreeInitialization, TreeEmbedding\n",
    "from Preprocessing import DataPreprocessing\n",
    "from NN\n",
    "import Evaluation"
   ]
  },
  {
   "cell_type": "code",
   "execution_count": 2,
   "metadata": {},
   "outputs": [],
   "source": [
    "def seed_everything(seed):\n",
    "    random.seed(seed)\n",
    "    os.environ['PYTHONHASHSEED'] = str(seed)\n",
    "    np.random.seed(seed)\n",
    "\n",
    "seed_everything(123)"
   ]
  },
  {
   "cell_type": "markdown",
   "metadata": {},
   "source": [
    "# 2. Tree"
   ]
  },
  {
   "cell_type": "code",
   "execution_count": 3,
   "metadata": {},
   "outputs": [],
   "source": [
    "reuters = Node(\"Reuters\")\n",
    "\n",
    "ccat = Node(\"CCAT\", parent = reuters)\n",
    "c11 = Node(\"C11\", parent = ccat)\n",
    "c21 = Node(\"C21\", parent = ccat)\n",
    "c24 = Node(\"C24\", parent = ccat)\n",
    "\n",
    "gcat = Node(\"GCAT\", parent = reuters)\n",
    "gcrim = Node(\"GCRIM\", parent = gcat)\n",
    "gdip = Node(\"GDIP\", parent = gcat)\n",
    "gpol = Node(\"GPOL\", parent = gcat)\n",
    "gvio = Node(\"GVIO\", parent = gcat)\n",
    "\n",
    "mcat = Node(\"MCAT\", parent = reuters)\n",
    "m12 = Node(\"M12\", parent = mcat)\n",
    "m14 = Node(\"M14\", parent = mcat)\n",
    "m141 = Node(\"M141\", parent = m14)\n",
    "m142 = Node(\"M142\", parent = m14)"
   ]
  },
  {
   "cell_type": "code",
   "execution_count": 4,
   "metadata": {},
   "outputs": [],
   "source": [
    "tree = reuters"
   ]
  },
  {
   "cell_type": "code",
   "execution_count": 5,
   "metadata": {},
   "outputs": [
    {
     "data": {
      "text/html": [
       "<div>\n",
       "<style scoped>\n",
       "    .dataframe tbody tr th:only-of-type {\n",
       "        vertical-align: middle;\n",
       "    }\n",
       "\n",
       "    .dataframe tbody tr th {\n",
       "        vertical-align: top;\n",
       "    }\n",
       "\n",
       "    .dataframe thead th {\n",
       "        text-align: right;\n",
       "    }\n",
       "</style>\n",
       "<table border=\"1\" class=\"dataframe\">\n",
       "  <thead>\n",
       "    <tr style=\"text-align: right;\">\n",
       "      <th></th>\n",
       "      <th>node</th>\n",
       "      <th>id</th>\n",
       "      <th>level</th>\n",
       "      <th>isLeaf</th>\n",
       "      <th>parent</th>\n",
       "    </tr>\n",
       "  </thead>\n",
       "  <tbody>\n",
       "    <tr>\n",
       "      <th>0</th>\n",
       "      <td>Reuters</td>\n",
       "      <td>0</td>\n",
       "      <td>0</td>\n",
       "      <td>False</td>\n",
       "      <td>-1</td>\n",
       "    </tr>\n",
       "    <tr>\n",
       "      <th>1</th>\n",
       "      <td>CCAT</td>\n",
       "      <td>1</td>\n",
       "      <td>1</td>\n",
       "      <td>False</td>\n",
       "      <td>0</td>\n",
       "    </tr>\n",
       "    <tr>\n",
       "      <th>2</th>\n",
       "      <td>GCAT</td>\n",
       "      <td>2</td>\n",
       "      <td>1</td>\n",
       "      <td>False</td>\n",
       "      <td>0</td>\n",
       "    </tr>\n",
       "    <tr>\n",
       "      <th>3</th>\n",
       "      <td>MCAT</td>\n",
       "      <td>3</td>\n",
       "      <td>1</td>\n",
       "      <td>False</td>\n",
       "      <td>0</td>\n",
       "    </tr>\n",
       "    <tr>\n",
       "      <th>4</th>\n",
       "      <td>C11</td>\n",
       "      <td>4</td>\n",
       "      <td>2</td>\n",
       "      <td>True</td>\n",
       "      <td>1</td>\n",
       "    </tr>\n",
       "    <tr>\n",
       "      <th>5</th>\n",
       "      <td>C21</td>\n",
       "      <td>5</td>\n",
       "      <td>2</td>\n",
       "      <td>True</td>\n",
       "      <td>1</td>\n",
       "    </tr>\n",
       "    <tr>\n",
       "      <th>6</th>\n",
       "      <td>C24</td>\n",
       "      <td>6</td>\n",
       "      <td>2</td>\n",
       "      <td>True</td>\n",
       "      <td>1</td>\n",
       "    </tr>\n",
       "    <tr>\n",
       "      <th>7</th>\n",
       "      <td>GCRIM</td>\n",
       "      <td>7</td>\n",
       "      <td>2</td>\n",
       "      <td>True</td>\n",
       "      <td>2</td>\n",
       "    </tr>\n",
       "    <tr>\n",
       "      <th>8</th>\n",
       "      <td>GDIP</td>\n",
       "      <td>8</td>\n",
       "      <td>2</td>\n",
       "      <td>True</td>\n",
       "      <td>2</td>\n",
       "    </tr>\n",
       "    <tr>\n",
       "      <th>9</th>\n",
       "      <td>GPOL</td>\n",
       "      <td>9</td>\n",
       "      <td>2</td>\n",
       "      <td>True</td>\n",
       "      <td>2</td>\n",
       "    </tr>\n",
       "    <tr>\n",
       "      <th>10</th>\n",
       "      <td>GVIO</td>\n",
       "      <td>10</td>\n",
       "      <td>2</td>\n",
       "      <td>True</td>\n",
       "      <td>2</td>\n",
       "    </tr>\n",
       "    <tr>\n",
       "      <th>11</th>\n",
       "      <td>M12</td>\n",
       "      <td>11</td>\n",
       "      <td>2</td>\n",
       "      <td>True</td>\n",
       "      <td>3</td>\n",
       "    </tr>\n",
       "    <tr>\n",
       "      <th>12</th>\n",
       "      <td>M14</td>\n",
       "      <td>12</td>\n",
       "      <td>2</td>\n",
       "      <td>False</td>\n",
       "      <td>3</td>\n",
       "    </tr>\n",
       "    <tr>\n",
       "      <th>13</th>\n",
       "      <td>M141</td>\n",
       "      <td>13</td>\n",
       "      <td>3</td>\n",
       "      <td>True</td>\n",
       "      <td>12</td>\n",
       "    </tr>\n",
       "    <tr>\n",
       "      <th>14</th>\n",
       "      <td>M142</td>\n",
       "      <td>14</td>\n",
       "      <td>3</td>\n",
       "      <td>True</td>\n",
       "      <td>12</td>\n",
       "    </tr>\n",
       "  </tbody>\n",
       "</table>\n",
       "</div>"
      ],
      "text/plain": [
       "       node  id  level  isLeaf  parent\n",
       "0   Reuters   0      0   False      -1\n",
       "1      CCAT   1      1   False       0\n",
       "2      GCAT   2      1   False       0\n",
       "3      MCAT   3      1   False       0\n",
       "4       C11   4      2    True       1\n",
       "5       C21   5      2    True       1\n",
       "6       C24   6      2    True       1\n",
       "7     GCRIM   7      2    True       2\n",
       "8      GDIP   8      2    True       2\n",
       "9      GPOL   9      2    True       2\n",
       "10     GVIO  10      2    True       2\n",
       "11      M12  11      2    True       3\n",
       "12      M14  12      2   False       3\n",
       "13     M141  13      3    True      12\n",
       "14     M142  14      3    True      12"
      ]
     },
     "execution_count": 5,
     "metadata": {},
     "output_type": "execute_result"
    }
   ],
   "source": [
    "trees = TreeInitialization(tree)\n",
    "trees.df"
   ]
  },
  {
   "cell_type": "code",
   "execution_count": 6,
   "metadata": {},
   "outputs": [
    {
     "data": {
      "text/plain": [
       "[Node('/Reuters', id=0),\n",
       " Node('/Reuters/CCAT', id=1),\n",
       " Node('/Reuters/GCAT', id=2),\n",
       " Node('/Reuters/MCAT', id=3),\n",
       " Node('/Reuters/CCAT/C11', id=4),\n",
       " Node('/Reuters/CCAT/C21', id=5),\n",
       " Node('/Reuters/CCAT/C24', id=6),\n",
       " Node('/Reuters/GCAT/GCRIM', id=7),\n",
       " Node('/Reuters/GCAT/GDIP', id=8),\n",
       " Node('/Reuters/GCAT/GPOL', id=9),\n",
       " Node('/Reuters/GCAT/GVIO', id=10),\n",
       " Node('/Reuters/MCAT/M12', id=11),\n",
       " Node('/Reuters/MCAT/M14', id=12),\n",
       " Node('/Reuters/MCAT/M14/M141', id=13),\n",
       " Node('/Reuters/MCAT/M14/M142', id=14)]"
      ]
     },
     "execution_count": 6,
     "metadata": {},
     "output_type": "execute_result"
    }
   ],
   "source": [
    "trees.nodes"
   ]
  },
  {
   "cell_type": "code",
   "execution_count": 7,
   "metadata": {},
   "outputs": [
    {
     "name": "stdout",
     "output_type": "stream",
     "text": [
      "[[-0.8660254   0.8660254   0.         -0.8660254  -0.8660254  -0.8660254\n",
      "   0.8660254   0.8660254   0.8660254   0.8660254   0.          0.\n",
      "   0.          0.        ]\n",
      " [-0.5        -0.5         1.         -0.5        -0.5        -0.5\n",
      "  -0.5        -0.5        -0.5        -0.5         1.          1.\n",
      "   1.          1.        ]\n",
      " [ 0.          0.          0.         -0.38729833  0.38729833  0.\n",
      "   0.          0.          0.          0.          0.          0.\n",
      "   0.          0.        ]\n",
      " [ 0.          0.          0.         -0.2236068  -0.2236068   0.4472136\n",
      "   0.          0.          0.          0.          0.          0.\n",
      "   0.          0.        ]\n",
      " [ 0.          0.          0.          0.          0.          0.\n",
      "  -0.36514837  0.36514837  0.          0.          0.          0.\n",
      "   0.          0.        ]\n",
      " [ 0.          0.          0.          0.          0.          0.\n",
      "  -0.21081851 -0.21081851  0.42163702  0.          0.          0.\n",
      "   0.          0.        ]\n",
      " [ 0.          0.          0.          0.          0.          0.\n",
      "  -0.1490712  -0.1490712  -0.1490712   0.4472136   0.          0.\n",
      "   0.          0.        ]\n",
      " [ 0.          0.          0.          0.          0.          0.\n",
      "   0.          0.          0.          0.         -0.4472136   0.4472136\n",
      "   0.4472136   0.4472136 ]\n",
      " [ 0.          0.          0.          0.          0.          0.\n",
      "   0.          0.          0.          0.          0.          0.\n",
      "  -0.2         0.2       ]]\n"
     ]
    }
   ],
   "source": [
    "Xi = TreeEmbedding(tree).xi\n",
    "print(Xi)"
   ]
  },
  {
   "cell_type": "markdown",
   "metadata": {},
   "source": [
    "# 3. Data"
   ]
  },
  {
   "cell_type": "code",
   "execution_count": 8,
   "metadata": {},
   "outputs": [],
   "source": [
    "prep = DataPreprocessing(tree)\n",
    "\n",
    "X = pd.read_csv('./data/Reuters_X.txt', sep=' ', header=None)\n",
    "y = pd.read_csv('./data/Reuters_Y.txt', header=None)"
   ]
  },
  {
   "cell_type": "code",
   "execution_count": 9,
   "metadata": {},
   "outputs": [],
   "source": [
    "X = np.c_[np.ones(X.shape[0]), np.array(X)]\n",
    "y = y[0]"
   ]
  },
  {
   "cell_type": "code",
   "execution_count": 10,
   "metadata": {},
   "outputs": [
    {
     "data": {
      "text/plain": [
       "((455, 7206), 455)"
      ]
     },
     "execution_count": 10,
     "metadata": {},
     "output_type": "execute_result"
    }
   ],
   "source": [
    "X.shape, len(y)"
   ]
  },
  {
   "cell_type": "markdown",
   "metadata": {},
   "source": [
    "# 4. Preprocessing"
   ]
  },
  {
   "cell_type": "markdown",
   "metadata": {},
   "source": [
    "### 4.1 Split Train / Test Dataset"
   ]
  },
  {
   "cell_type": "code",
   "execution_count": 11,
   "metadata": {},
   "outputs": [],
   "source": [
    "X_train, X_test, y_train, y_test = prep.split_data(X, y, train_ratio=0.5)"
   ]
  },
  {
   "cell_type": "code",
   "execution_count": null,
   "metadata": {},
   "outputs": [],
   "source": [
    "# select_f = prep.feature_screening(X_train, y_train, num_features=110)\n",
    "# X_train = X_train[:, select_f]\n",
    "# X_test = X_test[:, select_f]"
   ]
  },
  {
   "cell_type": "code",
   "execution_count": 13,
   "metadata": {},
   "outputs": [
    {
     "data": {
      "text/plain": [
       "((227, 7206), (228, 7206), (227,), (228,))"
      ]
     },
     "execution_count": 13,
     "metadata": {},
     "output_type": "execute_result"
    }
   ],
   "source": [
    "X_train.shape, X_test.shape, y_train.shape, y_test.shape"
   ]
  },
  {
   "cell_type": "markdown",
   "metadata": {},
   "source": [
    "# 5. Modeling"
   ]
  },
  {
   "cell_type": "code",
   "execution_count": null,
   "metadata": {},
   "outputs": [],
   "source": [
    "NUM_ITER = 10000\n",
    "HIDDEN_NEURONS = 100\n",
    "LEARNING_RATE = 0.1\n",
    "INIT_METHOD = 'Xavier'\n",
    "INIT_DIST = 'Normal'"
   ]
  },
  {
   "cell_type": "code",
   "execution_count": null,
   "metadata": {},
   "outputs": [],
   "source": [
    "model = train_model(X_train, y_train, tree,\\\n",
    "                NUM_ITER, HIDDEN_NEURONS, LEARNING_RATE,\\\n",
    "                INIT_METHOD, INIT_DIST)"
   ]
  },
  {
   "cell_type": "markdown",
   "metadata": {},
   "source": [
    "# 6. Prediction"
   ]
  },
  {
   "cell_type": "code",
   "execution_count": 14,
   "metadata": {},
   "outputs": [
    {
     "data": {
      "text/plain": [
       "(Node('/Reuters/CCAT/C11', id=4),\n",
       " Node('/Reuters/CCAT/C21', id=5),\n",
       " Node('/Reuters/CCAT/C24', id=6),\n",
       " Node('/Reuters/GCAT/GCRIM', id=7),\n",
       " Node('/Reuters/GCAT/GDIP', id=8),\n",
       " Node('/Reuters/GCAT/GPOL', id=9),\n",
       " Node('/Reuters/GCAT/GVIO', id=10),\n",
       " Node('/Reuters/MCAT/M12', id=11),\n",
       " Node('/Reuters/MCAT/M14/M141', id=13),\n",
       " Node('/Reuters/MCAT/M14/M142', id=14))"
      ]
     },
     "execution_count": 14,
     "metadata": {},
     "output_type": "execute_result"
    }
   ],
   "source": [
    "tree.leaves"
   ]
  },
  {
   "cell_type": "code",
   "execution_count": null,
   "metadata": {},
   "outputs": [],
   "source": []
  }
 ],
 "metadata": {
  "kernelspec": {
   "display_name": "Python 3.8.19 ('Paper')",
   "language": "python",
   "name": "python3"
  },
  "language_info": {
   "codemirror_mode": {
    "name": "ipython",
    "version": 3
   },
   "file_extension": ".py",
   "mimetype": "text/x-python",
   "name": "python",
   "nbconvert_exporter": "python",
   "pygments_lexer": "ipython3",
   "version": "3.8.19"
  },
  "orig_nbformat": 4,
  "vscode": {
   "interpreter": {
    "hash": "b61b02ca0d3c20f92b94681bfed39fd88ff8139147537348a49860996da102cf"
   }
  }
 },
 "nbformat": 4,
 "nbformat_minor": 2
}
