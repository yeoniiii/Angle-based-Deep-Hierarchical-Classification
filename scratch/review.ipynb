{
 "cells": [
  {
   "cell_type": "code",
   "execution_count": 1,
   "metadata": {},
   "outputs": [],
   "source": [
    "import pandas as pd\n",
    "import numpy as np\n",
    "from anytree import Node, RenderTree, LevelOrderIter"
   ]
  },
  {
   "cell_type": "code",
   "execution_count": 2,
   "metadata": {},
   "outputs": [],
   "source": [
    "reuters = Node(\"Reuters\")\n",
    "\n",
    "ccat = Node(\"CCAT\", parent = reuters)\n",
    "c11 = Node(\"C11\", parent = ccat)\n",
    "c21 = Node(\"C21\", parent = ccat)\n",
    "c24 = Node(\"C24\", parent = ccat)\n",
    "\n",
    "gcat = Node(\"GCAT\", parent = reuters)\n",
    "gcrim = Node(\"GCRIM\", parent = gcat)\n",
    "gdip = Node(\"GDIP\", parent = gcat)\n",
    "gpol = Node(\"GPOL\", parent = gcat)\n",
    "gvio = Node(\"GVIO\", parent = gcat)\n",
    "\n",
    "mcat = Node(\"MCAT\", parent = reuters)\n",
    "m12 = Node(\"M12\", parent = mcat)\n",
    "m14 = Node(\"M14\", parent = mcat)\n",
    "m141 = Node(\"M141\", parent = m14)\n",
    "m142 = Node(\"M142\", parent = m14)"
   ]
  },
  {
   "cell_type": "code",
   "execution_count": 3,
   "metadata": {},
   "outputs": [],
   "source": [
    "tree = reuters"
   ]
  },
  {
   "cell_type": "code",
   "execution_count": 4,
   "metadata": {},
   "outputs": [],
   "source": [
    "def hier_tree(tree):\n",
    "    nodes = list(LevelOrderIter(tree))\n",
    "    tree_df = pd.DataFrame({\n",
    "        'node': [node.name for node in nodes],\n",
    "        'id': [i for i in range(tree.size)],\n",
    "        'isLeaf': [len(node.children) == 0 for node in nodes],\n",
    "        'level': [node.depth for node in nodes],\n",
    "        'parent': [node.parent.id if node.parent else -1 for node in nodes]\n",
    "    })\n",
    "    num_sib = [len(node.siblings) for node in nodes]\n",
    "    \n",
    "    return {'trees': nodes, 'tree_df': tree_df, 'num_sib': num_sib}"
   ]
  },
  {
   "cell_type": "code",
   "execution_count": 5,
   "metadata": {},
   "outputs": [
    {
     "data": {
      "text/plain": [
       "15"
      ]
     },
     "execution_count": 5,
     "metadata": {},
     "output_type": "execute_result"
    }
   ],
   "source": [
    "tree.size"
   ]
  },
  {
   "cell_type": "code",
   "execution_count": 6,
   "metadata": {},
   "outputs": [
    {
     "data": {
      "text/plain": [
       "10"
      ]
     },
     "execution_count": 6,
     "metadata": {},
     "output_type": "execute_result"
    }
   ],
   "source": [
    "len(tree.leaves)"
   ]
  },
  {
   "cell_type": "code",
   "execution_count": 7,
   "metadata": {},
   "outputs": [
    {
     "data": {
      "text/plain": [
       "0"
      ]
     },
     "execution_count": 7,
     "metadata": {},
     "output_type": "execute_result"
    }
   ],
   "source": [
    "tree.depth"
   ]
  },
  {
   "cell_type": "code",
   "execution_count": 8,
   "metadata": {},
   "outputs": [
    {
     "data": {
      "text/plain": [
       "3"
      ]
     },
     "execution_count": 8,
     "metadata": {},
     "output_type": "execute_result"
    }
   ],
   "source": [
    "len(tree.children)"
   ]
  },
  {
   "cell_type": "code",
   "execution_count": 9,
   "metadata": {},
   "outputs": [],
   "source": [
    "n_nodes = tree.size\n",
    "n_leafs = len(tree.leaves)"
   ]
  },
  {
   "cell_type": "code",
   "execution_count": 10,
   "metadata": {},
   "outputs": [],
   "source": [
    "nodes = list(LevelOrderIter(tree))"
   ]
  },
  {
   "cell_type": "code",
   "execution_count": 11,
   "metadata": {},
   "outputs": [
    {
     "name": "stdout",
     "output_type": "stream",
     "text": [
      "3\n",
      "3\n",
      "4\n",
      "2\n",
      "0\n",
      "0\n",
      "0\n",
      "0\n",
      "0\n",
      "0\n",
      "0\n",
      "0\n",
      "2\n",
      "0\n",
      "0\n"
     ]
    }
   ],
   "source": [
    "for node in nodes:\n",
    "    print(len(node.children))"
   ]
  },
  {
   "cell_type": "code",
   "execution_count": 12,
   "metadata": {},
   "outputs": [],
   "source": [
    "def multi_emb0(c, q):\n",
    "    \"\"\"Initial embedding for labels with pairwise distances.\"\"\"\n",
    "    if q < 2:\n",
    "        raise ValueError(\"The number of leaves must be at least 2.\")\n",
    "    Xi = np.zeros((q-1, q))\n",
    "    Xi[0, 0] = -c/2; Xi[0, 1] = c/2\n",
    "    for m in range(2, q):\n",
    "        d_in = np.sum(Xi[:m, :m], axis=0) / m - Xi[:m, m-1]\n",
    "        d = np.sqrt(np.sum(d_in**2))\n",
    "        a = np.sqrt(c**2 - d**2)\n",
    "        e = np.zeros(m); e[-1] = 1\n",
    "        Xi[:m, m] = np.mean(Xi[:m, :m], axis=1) + a * e\n",
    "    Xi -= np.mean(Xi, axis=0)\n",
    "    return Xi\n",
    "\n",
    "def multi_emb(t, q):\n",
    "    \"\"\"Scale the embedding according to the specified norm and number of labels.\"\"\"\n",
    "    cq = t * np.sqrt((2 * q) / (q - 1))\n",
    "    return multi_emb0(cq, q)"
   ]
  },
  {
   "cell_type": "code",
   "execution_count": null,
   "metadata": {},
   "outputs": [
    {
     "data": {
      "text/plain": [
       "Node('/Reuters/CCAT')"
      ]
     },
     "execution_count": 61,
     "metadata": {},
     "output_type": "execute_result"
    }
   ],
   "source": [
    "c11.parent"
   ]
  },
  {
   "cell_type": "code",
   "execution_count": null,
   "metadata": {},
   "outputs": [
    {
     "data": {
      "text/plain": [
       "[Node('/Reuters'),\n",
       " Node('/Reuters/CCAT'),\n",
       " Node('/Reuters/GCAT'),\n",
       " Node('/Reuters/MCAT'),\n",
       " Node('/Reuters/CCAT/C11'),\n",
       " Node('/Reuters/CCAT/C21'),\n",
       " Node('/Reuters/CCAT/C24'),\n",
       " Node('/Reuters/GCAT/GCRIM'),\n",
       " Node('/Reuters/GCAT/GDIP'),\n",
       " Node('/Reuters/GCAT/GPOL'),\n",
       " Node('/Reuters/GCAT/GVIO'),\n",
       " Node('/Reuters/MCAT/M12'),\n",
       " Node('/Reuters/MCAT/M14'),\n",
       " Node('/Reuters/MCAT/M14/M141'),\n",
       " Node('/Reuters/MCAT/M14/M142')]"
      ]
     },
     "execution_count": 57,
     "metadata": {},
     "output_type": "execute_result"
    }
   ],
   "source": [
    "nodes"
   ]
  },
  {
   "cell_type": "code",
   "execution_count": null,
   "metadata": {},
   "outputs": [
    {
     "name": "stdout",
     "output_type": "stream",
     "text": [
      "0 Node('/Reuters/CCAT')\n",
      "1 Node('/Reuters/GCAT')\n",
      "2 Node('/Reuters/MCAT')\n",
      "3 Node('/Reuters/CCAT/C11')\n",
      "4 Node('/Reuters/CCAT/C21')\n",
      "5 Node('/Reuters/CCAT/C24')\n",
      "6 Node('/Reuters/GCAT/GCRIM')\n",
      "7 Node('/Reuters/GCAT/GDIP')\n",
      "8 Node('/Reuters/GCAT/GPOL')\n",
      "9 Node('/Reuters/GCAT/GVIO')\n",
      "10 Node('/Reuters/MCAT/M12')\n",
      "11 Node('/Reuters/MCAT/M14')\n",
      "12 Node('/Reuters/MCAT/M14/M141')\n",
      "13 Node('/Reuters/MCAT/M14/M142')\n"
     ]
    }
   ],
   "source": [
    "for i, node in enumerate(nodes[1:]):\n",
    "    print(i, node)"
   ]
  },
  {
   "cell_type": "code",
   "execution_count": 16,
   "metadata": {},
   "outputs": [],
   "source": [
    "from Algorithms import TreeInitialization, TreeEmbedding"
   ]
  },
  {
   "cell_type": "code",
   "execution_count": 17,
   "metadata": {},
   "outputs": [],
   "source": [
    "trees = TreeInitialization(tree)"
   ]
  },
  {
   "cell_type": "code",
   "execution_count": 23,
   "metadata": {},
   "outputs": [
    {
     "data": {
      "text/plain": [
       "array([[-0.8660254 ,  0.8660254 ,  0.        , -0.8660254 , -0.8660254 ,\n",
       "        -0.8660254 ,  0.8660254 ,  0.8660254 ,  0.8660254 ,  0.8660254 ,\n",
       "         0.        ,  0.        ,  0.        ,  0.        ],\n",
       "       [-0.5       , -0.5       ,  1.        , -0.5       , -0.5       ,\n",
       "        -0.5       , -0.5       , -0.5       , -0.5       , -0.5       ,\n",
       "         1.        ,  1.        ,  1.        ,  1.        ],\n",
       "       [ 0.        ,  0.        ,  0.        , -0.38729833,  0.38729833,\n",
       "         0.        ,  0.        ,  0.        ,  0.        ,  0.        ,\n",
       "         0.        ,  0.        ,  0.        ,  0.        ],\n",
       "       [ 0.        ,  0.        ,  0.        , -0.2236068 , -0.2236068 ,\n",
       "         0.4472136 ,  0.        ,  0.        ,  0.        ,  0.        ,\n",
       "         0.        ,  0.        ,  0.        ,  0.        ],\n",
       "       [ 0.        ,  0.        ,  0.        ,  0.        ,  0.        ,\n",
       "         0.        , -0.36514837,  0.36514837,  0.        ,  0.        ,\n",
       "         0.        ,  0.        ,  0.        ,  0.        ],\n",
       "       [ 0.        ,  0.        ,  0.        ,  0.        ,  0.        ,\n",
       "         0.        , -0.21081851, -0.21081851,  0.42163702,  0.        ,\n",
       "         0.        ,  0.        ,  0.        ,  0.        ],\n",
       "       [ 0.        ,  0.        ,  0.        ,  0.        ,  0.        ,\n",
       "         0.        , -0.1490712 , -0.1490712 , -0.1490712 ,  0.4472136 ,\n",
       "         0.        ,  0.        ,  0.        ,  0.        ],\n",
       "       [ 0.        ,  0.        ,  0.        ,  0.        ,  0.        ,\n",
       "         0.        ,  0.        ,  0.        ,  0.        ,  0.        ,\n",
       "        -0.4472136 ,  0.4472136 ,  0.4472136 ,  0.4472136 ],\n",
       "       [ 0.        ,  0.        ,  0.        ,  0.        ,  0.        ,\n",
       "         0.        ,  0.        ,  0.        ,  0.        ,  0.        ,\n",
       "         0.        ,  0.        , -0.2       ,  0.2       ]])"
      ]
     },
     "execution_count": 23,
     "metadata": {},
     "output_type": "execute_result"
    }
   ],
   "source": [
    "Xi = TreeEmbedding(tree)\n",
    "Xi.xi"
   ]
  },
  {
   "cell_type": "code",
   "execution_count": null,
   "metadata": {},
   "outputs": [],
   "source": [
    "nodes = list(LevelOrderIter(tree))"
   ]
  },
  {
   "cell_type": "code",
   "execution_count": null,
   "metadata": {},
   "outputs": [
    {
     "data": {
      "text/plain": [
       "0"
      ]
     },
     "execution_count": 13,
     "metadata": {},
     "output_type": "execute_result"
    }
   ],
   "source": [
    "nodes.index(tree)"
   ]
  },
  {
   "cell_type": "code",
   "execution_count": null,
   "metadata": {},
   "outputs": [
    {
     "data": {
      "text/plain": [
       "[0, 2, 2, 2, 2, 2, 2, 3, 3, 3, 3, 1, 1, 1, 1]"
      ]
     },
     "execution_count": 15,
     "metadata": {},
     "output_type": "execute_result"
    }
   ],
   "source": [
    "[len(node.siblings)  for node in nodes]"
   ]
  },
  {
   "cell_type": "code",
   "execution_count": 24,
   "metadata": {},
   "outputs": [
    {
     "data": {
      "text/plain": [
       "3"
      ]
     },
     "execution_count": 24,
     "metadata": {},
     "output_type": "execute_result"
    }
   ],
   "source": [
    "tree.height"
   ]
  },
  {
   "cell_type": "code",
   "execution_count": 25,
   "metadata": {},
   "outputs": [
    {
     "ename": "NameError",
     "evalue": "name 'show' is not defined",
     "output_type": "error",
     "traceback": [
      "\u001b[0;31m---------------------------------------------------------------------------\u001b[0m",
      "\u001b[0;31mNameError\u001b[0m                                 Traceback (most recent call last)",
      "Cell \u001b[0;32mIn[25], line 1\u001b[0m\n\u001b[0;32m----> 1\u001b[0m show(tree)\n",
      "\u001b[0;31mNameError\u001b[0m: name 'show' is not defined"
     ]
    }
   ],
   "source": []
  },
  {
   "cell_type": "code",
   "execution_count": null,
   "metadata": {},
   "outputs": [],
   "source": []
  }
 ],
 "metadata": {
  "kernelspec": {
   "display_name": "Python 3.8.19 ('Paper')",
   "language": "python",
   "name": "python3"
  },
  "language_info": {
   "codemirror_mode": {
    "name": "ipython",
    "version": 3
   },
   "file_extension": ".py",
   "mimetype": "text/x-python",
   "name": "python",
   "nbconvert_exporter": "python",
   "pygments_lexer": "ipython3",
   "version": "3.8.19"
  },
  "orig_nbformat": 4,
  "vscode": {
   "interpreter": {
    "hash": "b61b02ca0d3c20f92b94681bfed39fd88ff8139147537348a49860996da102cf"
   }
  }
 },
 "nbformat": 4,
 "nbformat_minor": 2
}
